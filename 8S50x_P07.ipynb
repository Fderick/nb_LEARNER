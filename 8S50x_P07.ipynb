{
 "cells": [
  {
   "cell_type": "markdown",
   "id": "e9aea549",
   "metadata": {
    "tags": [
     "learner",
     "md"
    ]
   },
   "source": [
    "<hr style=\"height: 1px;\">\n",
    "<i>This notebook was authored by the 8.S50x Course Team, Copyright 2022 MIT All Rights Reserved.</i>\n",
    "<hr style=\"height: 1px;\">\n",
    "<br>\n",
    "\n",
    "<h1>Guided Problem Set 7: Matched Filtering Part II - Frequency Domain </h1>\n"
   ]
  },
  {
   "cell_type": "markdown",
   "id": "4ee4bd26",
   "metadata": {
    "tags": [
     "learner",
     "md"
    ]
   },
   "source": [
    "<a name='section_7_0'></a>\n",
    "<hr style=\"height: 1px;\">\n",
    "\n",
    "\n",
    "## <h2 style=\"border:1px; border-style:solid; padding: 0.25em; color: #FFFFFF; background-color: #90409C\">P7.0 Overview</h2>\n"
   ]
  },
  {
   "cell_type": "markdown",
   "id": "36ce3aeb",
   "metadata": {
    "tags": [
     "md",
     "learner"
    ]
   },
   "source": [
    "<h3>Navigation</h3>\n",
    "\n",
    "<table style=\"width:100%\">\n",
    "    <tr>\n",
    "        <td style=\"text-align: left; vertical-align: top; font-size: 10pt;\"><a href=\"#section_7_1\">P7.1 Introduction to Fitting in the Frequency Domain</a>\n",
    "        </td>\n",
    "        <td style=\"text-align: left; vertical-align: top; font-size: 10pt;\">no problems</td>\n",
    "    </tr>\n",
    "    <tr>\n",
    "        <td style=\"text-align: left; vertical-align: top; font-size: 10pt;\"><a href=\"#section_7_2\">P7.2 Analysis of Noisy Car Horn Data</a>\n",
    "        </td>\n",
    "        <td style=\"text-align: left; vertical-align: top; font-size: 10pt;\"><a href=\"#problems_7_2\">P7.2 Problems</a></td>\n",
    "    </tr>\n",
    "    <tr>\n",
    "        <td style=\"text-align: left; vertical-align: top; font-size: 10pt;\"><a href=\"#section_7_3\">P7.3 Calculating a Better Chi-square for LIGO Model</a>\n",
    "        </td>\n",
    "        <td style=\"text-align: left; vertical-align: top; font-size: 10pt;\"><a href=\"#problems_7_3\">P7.3 Problems</a></td>\n",
    "    </tr>\n",
    "</table>"
   ]
  },
  {
   "cell_type": "markdown",
   "id": "189f628d",
   "metadata": {
    "tags": [
     "learner",
     "catsoop_00",
     "md"
    ]
   },
   "source": [
    "<h3>Summary</h3>\n",
    "\n",
    "**P7.1 Introduction to Fitting in the Frequency Domain**\n",
    "<ul>\n",
    "    <li>text needed</li>\n",
    "</ul>\n",
    "\n",
    "**P7.2 Analysis of Noisy Car Horn Data**\n",
    "<ul>\n",
    "    <li>text needed</li>\n",
    "</ul>\n",
    "\n",
    "**P7.2 Calculating a Better Chi-square for LIGO Model**\n",
    "<ul>\n",
    "    <li>text needed</li>\n",
    "</ul>"
   ]
  },
  {
   "cell_type": "markdown",
   "id": "c33028e3",
   "metadata": {
    "tags": [
     "learner",
     "md"
    ]
   },
   "source": [
    "<h3>Importing Libraries and Data</h3>\n",
    "\n",
    "Before beginning, run the cell below to import the relevant libraries for this notebook. \n",
    "Optionally, set the plot resolution and default figure size.\n"
   ]
  },
  {
   "cell_type": "code",
   "execution_count": null,
   "id": "409350fe",
   "metadata": {
    "tags": [
     "learner",
     "py"
    ]
   },
   "outputs": [],
   "source": [
    "#>>>RUN\n",
    "\n",
    "!pip install lmfit\n",
    "!pip install playsound\n",
    "!pip install soundfile"
   ]
  },
  {
   "cell_type": "code",
   "execution_count": null,
   "id": "c2897cb9",
   "metadata": {
    "tags": [
     "learner",
     "py"
    ]
   },
   "outputs": [],
   "source": [
    "#>>>RUN\n",
    "\n",
    "import numpy as np\n",
    "import matplotlib.pyplot as plt\n",
    "from scipy.io.wavfile import write\n",
    "\n",
    "from lmfit import Model, Parameters\n",
    "import scipy.stats as stats\n",
    "from scipy.stats import chisquare\n",
    "from multiprocessing import Pool\n",
    "\n",
    "\n",
    "#set plot resolution\n",
    "%config InlineBackend.figure_format = 'retina'\n",
    "\n",
    "#set default figure size\n",
    "plt.rcParams['figure.figsize'] = (9,6)"
   ]
  },
  {
   "cell_type": "markdown",
   "id": "3e172963",
   "metadata": {
    "tags": [
     "learner",
     "md"
    ]
   },
   "source": [
    "<a name='section_7_1'></a>\n",
    "<hr style=\"height: 1px;\">\n",
    "\n",
    "## <h2 style=\"border:1px; border-style:solid; padding: 0.25em; color: #FFFFFF; background-color: #90409C\">P7.1 Introduction to Fitting in the Frequency Domain</h2>   \n",
    "\n",
    "| [Top](#section_7_0) | [Previous Section](#section_7_0) | [Problems](#problems_7_1) | [Next Section](#section_7_2) |\n"
   ]
  },
  {
   "cell_type": "markdown",
   "id": "2ce360ed",
   "metadata": {
    "tags": [
     "learner",
     "md",
     "catsoop_01"
    ]
   },
   "source": [
    "<h3>Overview</h3>\n",
    "\n",
    "Now we're going to do a similar process in the frequency domain, but instead of performing a fit, we're going compare the data to a template merger which we will generate."
   ]
  },
  {
   "cell_type": "markdown",
   "id": "5bb418d6",
   "metadata": {
    "tags": [
     "learner",
     "md",
     "catsoop_01"
    ]
   },
   "source": [
    "Let's start by making the template in the time domain. The parameters will be similar to the true values, but slightly off."
   ]
  },
  {
   "cell_type": "code",
   "execution_count": null,
   "id": "1c92db75",
   "metadata": {
    "tags": [
     "learner",
     "py",
     "catsoop_01"
    ]
   },
   "outputs": [],
   "source": [
    "#>>>RUN\n",
    "\n",
    "np.random.seed(0x98a09fe)\n",
    "\n",
    "def complicated_model_fn(x, time, lambda_plus, lambda_minus, max_amp, omega_0, omega_max, omega_sigma):\n",
    "    omega = (omega_max - omega_0) * (np.exp(-np.minimum(x - time, 0)**2 / omega_sigma)) + omega_0\n",
    "    lambdas = np.array([lambda_plus if xvalue > time else lambda_minus for xvalue in x])\n",
    "    amplitude = max_amp * np.exp(-abs(x - time) / lambdas)\n",
    "    return amplitude * np.cos(omega * (x-time))\n",
    "\n",
    "LAMBDA_PLUS_TRUE = 1.0\n",
    "LAMBDA_MINUS_TRUE = 4\n",
    "MAX_AMP_TRUE = 1.2\n",
    "OMEGA_0_TRUE = 3.0\n",
    "OMEGA_MAX_TRUE = 6.0\n",
    "OMEGA_SIGMA_TRUE = 4.0\n",
    "TIME_TRUE = 50.0\n",
    "\n",
    "sample_spacing = 0.1\n",
    "xi = np.arange(-128, 128, sample_spacing)#times\n",
    "\n",
    "yi_temp = complicated_model_fn(xi, 0, 1.5, 3.5, 1.0, 3.2, 5.5, 3.5)\n",
    "yi_true = complicated_model_fn(xi, TIME_TRUE, LAMBDA_PLUS_TRUE, LAMBDA_MINUS_TRUE, MAX_AMP_TRUE,\n",
    "                               OMEGA_0_TRUE, OMEGA_MAX_TRUE, OMEGA_SIGMA_TRUE)\n",
    "\n",
    "template_mask = np.where((xi > -15) & (xi < 5))\n",
    "data_mask = np.where((xi > TIME_TRUE-15) & (xi < TIME_TRUE+5))\n",
    "plt.plot(xi[data_mask]-TIME_TRUE, yi_true[data_mask], label=\"True\")\n",
    "plt.plot(xi[template_mask], yi_temp[template_mask], label=\"Template\")\n",
    "plt.xlabel(\"Time (s)\")\n",
    "plt.ylabel(\"Strain\")\n",
    "plt.legend();"
   ]
  },
  {
   "cell_type": "markdown",
   "id": "1953364a",
   "metadata": {
    "tags": [
     "learner",
     "md",
     "catsoop_01"
    ]
   },
   "source": [
    "We're going to be working in the frequency domain, so start by fft-ing our template and data."
   ]
  },
  {
   "cell_type": "code",
   "execution_count": null,
   "id": "703e54f9",
   "metadata": {
    "tags": [
     "learner",
     "py",
     "catsoop_01"
    ]
   },
   "outputs": [],
   "source": [
    "#>>>RUN\n",
    "\n",
    "fs = int(1/(xi[1] - xi[0]))\n",
    "\n",
    "data_fft = np.fft.fft(yi_true)\n",
    "template_fft = np.fft.fft(yi_temp)\n",
    "\n",
    "freq = np.fft.fftfreq(xi.shape[0])*fs\n",
    "\n",
    "plt.figure(figsize=(16, 5))\n",
    "plt.title(\"FFT of data\")\n",
    "plt.plot(freq, data_fft.real, label='real')\n",
    "plt.plot(freq, data_fft.imag, label='imaginary')\n",
    "plt.xlabel(\"Frequency (Hz)\")\n",
    "plt.ylabel(\"Power\")\n",
    "plt.ylim(-20, 20)\n",
    "plt.legend()\n",
    "plt.show()\n",
    "\n",
    "plt.figure(figsize=(16, 5))\n",
    "plt.title(\"FFT of template\")\n",
    "plt.plot(freq, template_fft.real, label='real')\n",
    "plt.plot(freq, template_fft.imag, label='imaginary')\n",
    "plt.xlabel(\"Frequency (Hz)\")\n",
    "plt.ylabel(\"Power\")\n",
    "plt.ylim(-20, 20)\n",
    "plt.legend()\n",
    "plt.show()"
   ]
  },
  {
   "cell_type": "markdown",
   "id": "90076780",
   "metadata": {
    "tags": [
     "learner",
     "md",
     "catsoop_01"
    ]
   },
   "source": [
    "Now suppose we want to do the same thing we did in the time domain case: shift the template by a time $t$. What happens to the FFT? Consider the integral definition of a fourier transform (as a substitute for the discrete case):\n",
    "\n",
    "$$\\mathcal{F}(\\omega) = \\int dt f(t)  e^{-2\\pi i\\omega t}$$\n",
    "\n",
    "So the FFT for a function shifted by $\\Delta t$ is\n",
    "\n",
    "$$\\int dt f(t - \\Delta t)  e^{-2\\pi i\\omega t} = \\int dt' f(t')  e^{-2\\pi i\\omega (t'+\\Delta t)} = e^{-2\\pi i \\omega \\Delta t}\\mathcal{F}(\\omega).$$\n",
    "\n",
    "It's just a multiplicative factor times the initial template FFT!"
   ]
  },
  {
   "cell_type": "markdown",
   "id": "037f0cf3",
   "metadata": {
    "tags": [
     "learner",
     "md",
     "catsoop_01"
    ]
   },
   "source": [
    "So suppose our data is indeed just our template, shifted by some time $\\Delta t$. We can recover $\\Delta t$ from the data FFT $\\mathcal{D}$ and the template FFT $\\mathcal{T}$ by\n",
    "\n",
    "$$\\mathcal{D}(\\omega)=e^{-2\\pi i\\omega \\Delta t} \\mathcal{T}(\\omega) \\implies \\frac{\\mathcal{D}(\\omega)}{\\mathcal{T}(\\omega)}=e^{-2\\pi i\\omega \\Delta t} = \\frac{\\mathcal{D}(\\omega) \\mathcal{T}^*(\\omega)}{|\\mathcal{T}|^2(\\omega)}.$$\n",
    "\n",
    "Take the inverse Fourier transform of this ratio and you get a delta function at $\\Delta t$:\n",
    "\n",
    "$$f(t) = \\int d\\omega e^{-2\\pi i\\omega \\Delta t} e^{2\\pi i\\omega t} = \\delta(\\Delta t - t).$$\n",
    "\n",
    "In other words, the peak of the IFFT of \n",
    "$$f(\\omega) =\\mathcal{D}(\\omega) \\mathcal{T}^*(\\omega)$$\n",
    "is centered on $\\Delta t$.\n",
    "\n",
    "There's some extra complication behind this, but above is the gist. For more information, see the [LIGO tutorial from which this code is inspired](https://www.gw-openscience.org/s/events/GW150914/LOSC_Event_tutorial_GW150914.html)."
   ]
  },
  {
   "cell_type": "markdown",
   "id": "8efce193",
   "metadata": {
    "tags": [
     "learner",
     "md",
     "catsoop_01"
    ]
   },
   "source": [
    "Let's compute $f(\\omega)$ as written above, using the power spectral density of the data instead of $|\\mathcal{T}|^2$ in the numerator. We call it `optimal_fft`. Then we take the IFFT and call it `optimal_time`."
   ]
  },
  {
   "cell_type": "code",
   "execution_count": null,
   "id": "5c9a4ddc",
   "metadata": {
    "tags": [
     "learner",
     "py",
     "catsoop_01"
    ]
   },
   "outputs": [],
   "source": [
    "#>>>RUN\n",
    "\n",
    "fftout=np.fft.fft(yi_true)\n",
    "optimal_fft = data_fft * template_fft.conjugate() / np.abs(fftout**2)\n",
    "plt.plot(freq,np.abs(optimal_fft))\n",
    "plt.show()\n",
    "\n",
    "#note the 2 is here b/c of the fft\n",
    "optimal_time = 2*np.fft.ifft(optimal_fft)*fs\n",
    "plt.plot(xi,optimal_time.real)\n",
    "plt.show()"
   ]
  },
  {
   "cell_type": "markdown",
   "id": "e5ad1fe7",
   "metadata": {
    "tags": [
     "learner",
     "md",
     "catsoop_01"
    ]
   },
   "source": [
    "We should really plot some sort of signal to noise ratio, not `optimal_time` itself. Let's fix the ratio so that if the data is just noise, we have a ratio of one. We record the ratio as `SNR` and plot it."
   ]
  },
  {
   "cell_type": "code",
   "execution_count": null,
   "id": "13c91988",
   "metadata": {
    "tags": [
     "learner",
     "py",
     "catsoop_01"
    ]
   },
   "outputs": [],
   "source": [
    "#>>>RUN\n",
    "\n",
    "df = np.abs(freq[1] - freq[0])\n",
    "#compute the resolution sigma^2=(|S|^2/PSD)*Delta t\n",
    "sigmasq = 2*(template_fft * template_fft.conjugate() / fftout**2).sum() * df\n",
    "sigma = np.sqrt(np.abs(sigmasq))\n",
    "SNR = abs(optimal_time) / (sigma)\n",
    "\n",
    "plt.figure()\n",
    "plt.plot(xi, SNR)\n",
    "plt.xlabel('Offset time (s)')\n",
    "plt.ylabel('SNR');"
   ]
  },
  {
   "cell_type": "markdown",
   "id": "359844cc",
   "metadata": {
    "tags": [
     "learner",
     "md"
    ]
   },
   "source": [
    "<a name='section_7_2'></a>\n",
    "<hr style=\"height: 1px;\">\n",
    "\n",
    "## <h2 style=\"border:1px; border-style:solid; padding: 0.25em; color: #FFFFFF; background-color: #90409C\">P7.2 Analysis of Noisy Car Horn Data</h2>   \n",
    "\n",
    "| [Top](#section_7_0) | [Previous Section](#section_7_1) | [Problems](#problems_7_2) | [Next Section](#section_7_3) |\n"
   ]
  },
  {
   "cell_type": "markdown",
   "id": "5842a752",
   "metadata": {
    "tags": [
     "learner",
     "md",
     "catsoop_02"
    ]
   },
   "source": [
    "<h3>Setup for Problems</h3>\n",
    "\n",
    "In what follows, we will use a frequency based matched filtering algorithm to solve a different kind of problem. Below are loaded two audio files: a file containing a specific kind of car horn and a file containing street noise with this car horn noise inserted.\n",
    "\n",
    "Note that there are more than one car horn noises in the street noise sample, but if excecuted corrected the frequency based matched filtering events should be able to find the specific car horn noise we are looking for!"
   ]
  },
  {
   "cell_type": "code",
   "execution_count": null,
   "id": "c6212f70",
   "metadata": {
    "tags": [
     "py",
     "learner",
     "catsoop_02"
    ]
   },
   "outputs": [],
   "source": [
    "#>>>DATA\n",
    "import soundfile as sf\n",
    "import time\n",
    "from IPython.display import Audio, display\n",
    "\n",
    "# Load the data into arrays\n",
    "yi_true, fs = sf.read('data/P06/street_noise.wav') \n",
    "yi_temp, fs = sf.read('data/P06/car_horn.wav')\n",
    "yi_true = yi_true[:,0]\n",
    "yi_temp = yi_temp[:,0]\n",
    "\n",
    "print(min,max)\n",
    "#play these guys\n",
    "min=int(22*(len(yi_true)/60))\n",
    "max=int(26*(len(yi_true)/60))\n",
    "\n",
    "def play(iArray,iFS):\n",
    "    sf.write('data/P06/tmp.flac', iArray, iFS)\n",
    "    display(Audio('data/P06/tmp.flac',autoplay=False))\n",
    "\n",
    "print(\"street_noise\")\n",
    "play(yi_true[min:max],fs)\n",
    "\n",
    "print(\"car horn\")\n",
    "play(yi_temp,fs)\n",
    "\n",
    "# Compresses the data to a smaller size by averaging 5 element chunks together\n",
    "# Note that this does not change the data, just decreases its resolution\n",
    "yi_true     = np.array(yi_true)\n",
    "yi_true_avg = np.average(yi_true.reshape(-1, 5), axis=1)\n",
    "\n",
    "\n",
    "\n",
    "# Make the template the same length as the signal by filling it with 0's\n",
    "# This is needed for the fft analysis to work\n",
    "yi_temp = np.concatenate((yi_temp, np.zeros(5*int(len(yi_temp)+1)-len(yi_temp))))\n",
    "yi_temp_avg = np.average(yi_temp.reshape(-1, 5), axis=1)\n",
    "yi_temp_avg = np.concatenate((yi_temp_avg, np.zeros(len(yi_true_avg)-len(yi_temp_avg))))\n",
    "\n",
    "\n",
    "# Create time array, from 0 to 60 second (the length of the street noise recording)\n",
    "# Time array also has the same resolution as the street noise, in order for fft analysis to work\n",
    "xi = np.linspace(0, 60, len(yi_true_avg))\n",
    "\n",
    "#Lets plot\n",
    "plt.plot(xi,yi_true_avg,label='merged sound')\n",
    "plt.plot(xi,yi_temp_avg,label='car horn')\n",
    "plt.xlabel('time(s)')\n",
    "plt.ylabel('Amplitude')\n",
    "plt.legend()\n",
    "plt.show()"
   ]
  },
  {
   "cell_type": "markdown",
   "id": "19fc2c52",
   "metadata": {
    "tags": [
     "learner",
     "md"
    ]
   },
   "source": [
    "<a name='problems_7_2'></a>   \n",
    "\n",
    "| [Top](#section_7_0) | [Restart Section](#section_7_2) | [Next Section](#section_7_3) |\n"
   ]
  },
  {
   "cell_type": "markdown",
   "id": "327c6223",
   "metadata": {
    "tags": [
     "learner",
     "md"
    ]
   },
   "source": [
    "### <span style=\"border:3px; border-style:solid; padding: 0.15em; border-color: #90409C; color: #90409C;\">Problem 7.2.1</span>\n",
    "\n",
    "The data are loaded as two arrays: a template containing the car horn and the true data containing the street noise. Using the same approach as the previous section, first plot the real and imaginary parts of the fft for each data set. Also plot the real parts of the fft of the template compared to the noisy data. Fill in the missing code to accomplish this.\n",
    "\n",
    "Consider the plots of the template and the data in the frequency domain. Which sound sample has a greater range of frequencies (broader, more uniform spectrum)?\n",
    "\n",
    "A. Template\n",
    "\n",
    "B. Data\n",
    "\n",
    "C. They look identical"
   ]
  },
  {
   "cell_type": "code",
   "execution_count": null,
   "id": "7b19cd88",
   "metadata": {
    "tags": [
     "draft",
     "py"
    ]
   },
   "outputs": [],
   "source": [
    "#>>>PROBLEM\n",
    "# Use this cell for drafting your solution (if desired),\n",
    "# then enter your solution in the interactive problem online to be graded.\n",
    "\n",
    "\n",
    "#copy and paste the FFT\n",
    "fs = #YOUR CODE HERE\n",
    "data_fft = #YOUR CODE HERE\n",
    "template_fft = #YOUR CODE HERE\n",
    "freq = #YOUR CODE HERE\n",
    "\n",
    "\n",
    "plt.figure(figsize=(16, 5))\n",
    "plt.title(\"FFT of data\")\n",
    "plt.plot(freq, data_fft.real, label='real')\n",
    "plt.plot(freq, data_fft.imag, label='imaginary')\n",
    "plt.xlabel(\"Frequency (Hz)\")\n",
    "plt.ylabel(\"Power\")\n",
    "#plt.ylim(-20, 20)\n",
    "plt.legend()\n",
    "plt.show()\n",
    "\n",
    "plt.figure(figsize=(16, 5))\n",
    "plt.title(\"FFT of template\")\n",
    "plt.plot(freq, template_fft.real, label='real')\n",
    "plt.plot(freq, template_fft.imag, label='imaginary')\n",
    "plt.xlabel(\"Frequency (Hz)\")\n",
    "plt.ylabel(\"Power\")\n",
    "#plt.ylim(-20, 20)\n",
    "plt.legend()\n",
    "plt.show()\n",
    "\n",
    "plt.figure(figsize=(16, 5))\n",
    "plt.plot(freq,data_fft.real,label='data')\n",
    "plt.plot(freq,template_fft.real,label='signal')\n",
    "plt.xlabel('freq')\n",
    "plt.ylabel('N')\n",
    "plt.legend()\n",
    "plt.show()\n"
   ]
  },
  {
   "cell_type": "markdown",
   "id": "fd2a22cf",
   "metadata": {
    "tags": [
     "md",
     "learner"
    ]
   },
   "source": [
    ">#### Follow-up 7.2.1a (ungraded)\n",
    ">   \n",
    ">Why does this answer make sense? Think about all the noise in the data that doesn't exist in the template.\n"
   ]
  },
  {
   "cell_type": "markdown",
   "id": "b546c489",
   "metadata": {
    "tags": [
     "learner",
     "md"
    ]
   },
   "source": [
    "### <span style=\"border:3px; border-style:solid; padding: 0.15em; border-color: #90409C; color: #90409C;\">Problem 7.1.2</span>\n",
    "\n",
    "When looking at the LIGO template, there was a large difference between the real and imaginary parts of the frequency space. Is there a large difference in the real and imaginary parts of the car-horn template?\n",
    "\n",
    "A. Yes\n",
    "\n",
    "B. No\n"
   ]
  },
  {
   "cell_type": "markdown",
   "id": "c5a58cbd",
   "metadata": {
    "tags": [
     "learner",
     "md"
    ]
   },
   "source": [
    "### <span style=\"border:3px; border-style:solid; padding: 0.15em; border-color: #90409C; color: #90409C;\">Problem 7.2.3</span>\n",
    "\n",
    "At what frequency (in Hz) does the PSD distribution peak? Enter your answer as number with precision 1.\n",
    "\n",
    "Hint: Take the absolute value of FFT$^{2}$ to get the power spectral density (PSD) spectrum of the data. Use the helpful command `np.argmax()` to find the index of the maximum element of the `psd`. Use this index to find the frequency."
   ]
  },
  {
   "cell_type": "code",
   "execution_count": null,
   "id": "e29a77ad",
   "metadata": {
    "tags": [
     "py",
     "draft"
    ]
   },
   "outputs": [],
   "source": [
    "#>>>PROBLEM\n",
    "\n",
    "freq_psd = #YOUR CODE HERE\n",
    "freq_psd_max = #YOUR CODE HERE\n",
    "\n",
    "plt.plot(freq,freq_psd,label='psd')\n",
    "plt.show()\n",
    "print(\"Frequency at which the PSD is at its maximum: \", freq_psd_max)"
   ]
  },
  {
   "cell_type": "markdown",
   "id": "2a76aa12",
   "metadata": {
    "tags": [
     "learner",
     "md"
    ]
   },
   "source": [
    "### <span style=\"border:3px; border-style:solid; padding: 0.15em; border-color: #90409C; color: #90409C;\">Problem 7.2.4</span>\n",
    "\n",
    "At what time (in seconds) does the template exist in the data? Enter your answer as number with precision 1e-1.\n",
    "\n",
    "Hint: follow the work that has been done in the previous section. Again, use `np.argmax()` to find the index of the maximum element of the `SNR`, and find the corresponding element of the time data array.\n"
   ]
  },
  {
   "cell_type": "code",
   "execution_count": null,
   "id": "c99ea913",
   "metadata": {
    "tags": [
     "py",
     "draft"
    ]
   },
   "outputs": [],
   "source": [
    "#>>>PROBLEM\n",
    "\n",
    "\n",
    "optimal_fft = #YOUR CODE HERE\n",
    "optimal_time = #YOUR CODE HERE\n",
    "\n",
    "df = #YOUR CODE HERE\n",
    "sigmasq = #YOUR CODE HERE\n",
    "sigma =#YOUR CODE HERE\n",
    "SNR = #YOUR CODE HERE\n",
    "\n",
    "time_SNR_max = #YOUR CODE HERE\n",
    "\n",
    "plt.figure()\n",
    "plt.plot(xi, SNR)\n",
    "plt.xlabel('Offset time (s)')\n",
    "plt.ylabel('SNR')\n",
    "plt.show()\n",
    "\n",
    "print(\"Time at which SNR peaks: \", time_SNR_max)"
   ]
  },
  {
   "cell_type": "markdown",
   "id": "66809758",
   "metadata": {
    "tags": [
     "md",
     "learner"
    ]
   },
   "source": [
    ">#### Follow-up 7.2.4a (ungraded)\n",
    ">   \n",
    ">The robustness of this approach is pretty impressive if you have a template that you are looking for in a sea of data. Listen to the audio files more closely. What are the other, smaller, peaks in the spectrum corresponding to? When are the other car horn noises in the data? Can you hear the template noise in the data at the correct time?\n"
   ]
  },
  {
   "cell_type": "markdown",
   "id": "b68b39ec",
   "metadata": {
    "tags": [
     "md",
     "learner"
    ]
   },
   "source": [
    ">#### Follow-up 7.2.4b (ungraded)\n",
    ">   \n",
    ">Change the data, perhaps by adding more noise or a different kind of noise, or by shifting the signal to a different time. What changes in the matched filter result?\n"
   ]
  },
  {
   "cell_type": "markdown",
   "id": "9707cf20",
   "metadata": {
    "tags": [
     "md",
     "learner"
    ]
   },
   "source": [
    ">#### Follow-up 7.2.4c (ungraded)\n",
    ">   \n",
    ">The runtime of the frequency domain matched filtering process was much faster than the time domain process. But we should not compare the directly because we tested against a template for the frequency version and performed a whole fit for the time version.\n",
    ">\n",
    ">If we instead used a template for the time version as well, computing a $\\chi^2$ for every offset $t$ between the signal and the template and plotted $\\chi^2$ as a function of $t$, which method do you think would be faster now? Frequency or time?\n"
   ]
  },
  {
   "cell_type": "markdown",
   "id": "b88a497f",
   "metadata": {
    "tags": [
     "learner",
     "md"
    ]
   },
   "source": [
    "<a name='section_7_3'></a>\n",
    "<hr style=\"height: 1px;\">\n",
    "\n",
    "## <h2 style=\"border:1px; border-style:solid; padding: 0.25em; color: #FFFFFF; background-color: #90409C\">P7.3 Calculating a Better Chi-square</h2>   \n",
    "\n",
    "| [Top](#section_7_0) | [Previous Section](#section_7_2) | [Problems](#problems_7_3) |\n"
   ]
  },
  {
   "cell_type": "markdown",
   "id": "46220b5f",
   "metadata": {
    "tags": [
     "learner",
     "md",
     "catsoop_03"
    ]
   },
   "source": [
    "<h3>Overview</h3>\n",
    "\n",
    "Now, what we are going to do is combine fourier analysis and fitting of the time series information, to get a better notion of thie $\\chi^{2}$. Lets go back to our fit of the data in time series, plot it and fit it. "
   ]
  },
  {
   "cell_type": "code",
   "execution_count": null,
   "id": "14707ae3",
   "metadata": {
    "scrolled": true,
    "tags": [
     "learner",
     "py",
     "catsoop_03"
    ]
   },
   "outputs": [],
   "source": [
    "np.random.seed(0x98a09fe)\n",
    "\n",
    "def complicated_model_fn(x, time, lambda_plus, lambda_minus, max_amp, omega_0, omega_max, omega_sigma):\n",
    "    omega = (omega_max - omega_0) * (np.exp(-np.minimum(x - time, 0)**2 / omega_sigma)) + omega_0\n",
    "    lambdas = np.array([lambda_plus if xvalue > time else lambda_minus for xvalue in x])\n",
    "    amplitude = max_amp * np.exp(-abs(x - time) / lambdas)\n",
    "    return amplitude * np.cos(omega * (x-time))\n",
    "\n",
    "def simple_fn(x,decay,constant,amplitude):\n",
    "    return amplitude*np.exp(-1*x*decay)+constant\n",
    "\n",
    "params_min_max = {\n",
    "    'lambda_plus': (0.1, 5),\n",
    "    'lambda_minus': (0.1, 5),\n",
    "    'max_amp': (0, 2),\n",
    "    'omega_0': (0, 5),\n",
    "    'omega_max': (0, 10),\n",
    "    'omega_sigma': (0, 5),\n",
    "}\n",
    "\n",
    "def get_param_random_value(p_min,p_max):\n",
    "    #get a uniformly distributed random value between p_min and p_max\n",
    "    #return a float\n",
    "    return p_min + (p_max - p_min) * np.random.random(1)[0]\n",
    "\n",
    "def model_and_random_parameters(t):\n",
    "    model = Model(complicated_model_fn)\n",
    "    params = Parameters()\n",
    "    params.add('time', value=t, vary=False)\n",
    "    for p, (p_min, p_max) in params_min_max.items():\n",
    "        value = get_param_random_value(p_min,p_max)\n",
    "        params.add(p, min=p_min, max=p_max, value=value)\n",
    "    return model, params\n",
    "\n",
    "Model(simple_fn)\n",
    "\n",
    "LAMBDA_PLUS_TRUE = 1.0\n",
    "LAMBDA_MINUS_TRUE = 4\n",
    "MAX_AMP_TRUE = 1.2\n",
    "OMEGA_0_TRUE = 3.0\n",
    "OMEGA_MAX_TRUE = 6.0\n",
    "OMEGA_SIGMA_TRUE = 4.0\n",
    "TIME_TRUE = 50.0\n",
    "\n",
    "xi = np.linspace(TIME_TRUE-15, TIME_TRUE+5, 200)\n",
    "true_yi = complicated_model_fn(xi, TIME_TRUE, LAMBDA_PLUS_TRUE, LAMBDA_MINUS_TRUE, MAX_AMP_TRUE,\n",
    "                               OMEGA_0_TRUE, OMEGA_MAX_TRUE, OMEGA_SIGMA_TRUE)\n",
    "\n",
    "NUMBER_SINES_TO_ADD = 10\n",
    "\n",
    "noise_frequencies = 0.5 + 7 * np.random.random(NUMBER_SINES_TO_ADD)\n",
    "noise_phases = 2 * np.pi * np.random.random(NUMBER_SINES_TO_ADD)\n",
    "noise_amplitudes = 2 * MAX_AMP_TRUE / NUMBER_SINES_TO_ADD * np.random.random(NUMBER_SINES_TO_ADD)\n",
    "    # The above line sets noise amplitudes so that the sum of all the noise amplitudes is on average\n",
    "    # equal to the maximum amplitude of the signal.\n",
    "\n",
    "plt.plot(xi, true_yi)\n",
    "plt.title(\"True Signal\")\n",
    "plt.xlabel(\"Time (s)\")\n",
    "plt.ylabel(\"Strain\")\n",
    "plt.show()\n",
    "\n",
    "sample_spacing = 0.1\n",
    "xi = np.arange(-128, 128, sample_spacing)#times\n",
    "yi = np.zeros_like(xi)#data\n",
    "\n",
    "#Adding Noise\n",
    "for freq, phase, amplitude in zip(noise_frequencies, noise_phases, noise_amplitudes):\n",
    "    yi += amplitude * np.sin(phase + freq * xi)\n",
    "\n",
    "#Adding Data\n",
    "signal= complicated_model_fn(xi, TIME_TRUE, LAMBDA_PLUS_TRUE, LAMBDA_MINUS_TRUE, MAX_AMP_TRUE,\n",
    "                               OMEGA_0_TRUE, OMEGA_MAX_TRUE, OMEGA_SIGMA_TRUE)\n",
    "yi+=signal\n",
    "\n",
    "plt.plot(xi, yi)\n",
    "plt.plot(xi, signal)\n",
    "plt.title(\"Signal plus noise\")\n",
    "plt.xlabel(\"Time (s)\")\n",
    "plt.ylabel(\"Strain\")\n",
    "plt.show()\n",
    "\n",
    "plt.plot(xi, yi)\n",
    "plt.plot(xi, signal)\n",
    "plt.title(\"Signal plus noise\")\n",
    "plt.xlim(35,55)\n",
    "plt.xlabel(\"Time (s)\")\n",
    "plt.ylabel(\"Strain\")\n",
    "plt.show()"
   ]
  },
  {
   "cell_type": "markdown",
   "id": "630cd1bc",
   "metadata": {
    "tags": [
     "learner",
     "md",
     "catsoop_03"
    ]
   },
   "source": [
    "<h3>Plotting the Fit from Before (time-domain)</h3>\n",
    "\n",
    "Here we plot the fit, defining a slightly different function that will also return the data arrays. Run it multiple times to find the minimum $\\chi^2$ value and corresponding maximum $\\chi^2$ probability.\n",
    "\n",
    "**We will use this fit going forward, so be sure to run it until the best fit is achieved.**"
   ]
  },
  {
   "cell_type": "code",
   "execution_count": null,
   "id": "0831d09e",
   "metadata": {
    "scrolled": true,
    "tags": [
     "learner",
     "py",
     "catsoop_03"
    ]
   },
   "outputs": [],
   "source": [
    "#Getting the fit (defining a slightly different function than previously)\n",
    "\n",
    "import lmfit\n",
    "\n",
    "def get_signal_indices(xi, t, t_before, t_after):\n",
    "    #use np.where() to return a 1D the relevant indices\n",
    "    #note, the result of np.where() will be a tuple\n",
    "    return np.where((xi > t - t_before) & (xi < t + t_after))\n",
    "\n",
    "def fit_once_apply(t,weight=1.0):\n",
    "    data_indices = get_signal_indices(xi, t, t_before, t_after)\n",
    "    data_x = xi[data_indices]\n",
    "    data_y = yi[data_indices]\n",
    "    weights = np.ones(len(data_x))*weight\n",
    "    model, params = model_and_random_parameters(t)\n",
    "    result = model.fit(data_y, params, x=data_x,weights=weights)\n",
    "    fitted_y = model.eval(x=data_x,params=result.params)\n",
    "    result.plot()\n",
    "    print(\"Fit chi2 value: \", result.chisqr)\n",
    "    print(\"Fit chi2 probability: \",1-stats.chi2.cdf(result.chisqr,result.nfree))\n",
    "    return data_x,data_y,fitted_y\n",
    "\n",
    "unc=0.2\n",
    "fit_x,d_y, fit_y = fit_once_apply(TIME_TRUE,1./unc)\n",
    "plt.show()"
   ]
  },
  {
   "cell_type": "markdown",
   "id": "50900c7d",
   "metadata": {
    "tags": [
     "learner",
     "md",
     "catsoop_03"
    ]
   },
   "source": [
    "Now, your job is to compute a more meaningful $\\chi^{2}$ value by taking the above data and fitted prediction and tranforming them into fouier space and plotting them together."
   ]
  },
  {
   "cell_type": "markdown",
   "id": "9065a2aa",
   "metadata": {
    "tags": [
     "learner",
     "md"
    ]
   },
   "source": [
    "<a name='problems_7_3'></a>   \n",
    "\n",
    "| [Top](#section_7_0) | [Restart Section](#section_7_3) |\n"
   ]
  },
  {
   "cell_type": "markdown",
   "id": "918fd4e5",
   "metadata": {
    "tags": [
     "learner",
     "md"
    ]
   },
   "source": [
    "### <span style=\"border:3px; border-style:solid; padding: 0.15em; border-color: #90409C; color: #90409C;\">Problem 7.3.1</span>\n",
    "\n",
    "As a first step,take the data and the fitted function in the time range they were fitted, and plot them in Fouier space. At approximately what frequency value (in Hz) does the amplitude decay to negligible levels? Enter your answer as a number with precision 1e-2."
   ]
  },
  {
   "cell_type": "code",
   "execution_count": null,
   "id": "0432ede3",
   "metadata": {
    "tags": [
     "py",
     "draft"
    ]
   },
   "outputs": [],
   "source": [
    "fftdata = #YOUR CODE HERE\n",
    "fftfit  = #YOUR CODE HERE\n",
    "\n",
    "freq = np.fft.fftfreq(fit_x.shape[0])*sample_spacing\n",
    "\n",
    "freq    = freq   [0:freq.shape[0]//2]\n",
    "fftfit  = fftfit [0:fftfit.shape[0]//2]\n",
    "fftdata = fftdata[0:fftdata.shape[0]//2]\n",
    "\n",
    "#print(fftdata.shape,fftfit.shape)\n",
    "plt.plot(freq,fftdata.real,label='data')\n",
    "plt.plot(freq,fftfit.real,label='fit')\n",
    "plt.xlabel('freq')\n",
    "plt.ylabel('Amplitude')\n",
    "plt.legend()\n",
    "plt.show()"
   ]
  },
  {
   "cell_type": "markdown",
   "id": "9539c983",
   "metadata": {
    "tags": [
     "learner",
     "md"
    ]
   },
   "source": [
    "### <span style=\"border:3px; border-style:solid; padding: 0.15em; border-color: #90409C; color: #90409C;\">Problem 7.3.2 </span>\n",
    "\n",
    "Now, what we want to do is to compute the noise as a funciton of frequency. We can do this by taking a region where there is no signal and computing the standard deviation of our samples in Fourier space. Be sure to do this in each of the same frequency bins that you compute the FFT in. To do this, you will likely want to use the `np.stddev(axis=0)` to compute the standard devaition of a 2D array.\n",
    "\n",
    "Run the code below. What does this noise spectrum look like? Choose from the following options:\n",
    "\n",
    "- A uniform distribution across all frequencies.\n",
    "- A decaying exponential function, peaked at low frequencies.\n",
    "- An increasing exponential function, peaked at high frequencies.\n",
    "- A function with multiple peaks in the low frequency range, decreasing in the high frequency range.\n",
    "- A function with multiple peaks in the high frequency range, decreasing in the low frequency range.\n"
   ]
  },
  {
   "cell_type": "code",
   "execution_count": null,
   "id": "726076d3",
   "metadata": {
    "scrolled": true,
    "tags": [
     "py",
     "draft"
    ]
   },
   "outputs": [],
   "source": [
    "#SOLUTION\n",
    "def fft_region(t):\n",
    "    data_indices = get_signal_indices(xi, t, t_before, t_after)\n",
    "    data_x = xi[data_indices]\n",
    "    data_y = yi[data_indices]\n",
    "    fft_sample = np.fft.fft(data_y)\n",
    "    fft_sample=fft_sample[0:fft_sample.shape[0]//2]\n",
    "    return fft_sample\n",
    "\n",
    "tsample=np.arange(-128, 128,10)\n",
    "ffts=np.array([])\n",
    "for t in tsample:\n",
    "    if abs(t-TIME_TRUE) > 10:\n",
    "        pfft=fft_region(t)\n",
    "        if pfft.shape[0] == 35:\n",
    "            ffts = np.append(ffts,pfft)\n",
    "            \n",
    "ffts   = np.reshape(ffts,(len(ffts)//35,35))\n",
    "stddev = ffts.std(axis=0)\n",
    "plt.plot(freq,stddev)\n",
    "plt.xlabel('freq')\n",
    "plt.ylabel('std deviation')\n",
    "plt.show()"
   ]
  },
  {
   "cell_type": "markdown",
   "id": "9c546ab2",
   "metadata": {
    "tags": [
     "learner",
     "md"
    ]
   },
   "source": [
    "### <span style=\"border:3px; border-style:solid; padding: 0.15em; border-color: #90409C; color: #90409C;\">Problem 7.3.3 </span>\n",
    "\n",
    "Finally, make a plot of data and the fit in frequency space, where you put error bars on the data using the standard devivation of the FFT spectrum.\n",
    "\n",
    "What is the $\\chi^{2}$ value and associated probability (the degrees of freedom here is the number of bins minus the number of fit parameters; aka 7).\n",
    "\n",
    "Enter your answer as a list of numbers `[chi2, chi2_prob]` with precision 1e-1.  \n",
    "\n",
    "**NOTE: make sure you perform this analysis with respect to the time-domain fit that yielded the lowest $chi^2$ value.**"
   ]
  },
  {
   "cell_type": "markdown",
   "id": "99370f8d",
   "metadata": {
    "tags": [
     "md",
     "learner"
    ]
   },
   "source": [
    ">#### Follow-up 7.3.3a (ungraded)\n",
    ">   \n",
    ">Why is this more meaningful than the p-value obtained from the time-domain fit?"
   ]
  }
 ],
 "metadata": {
  "celltoolbar": "Tags",
  "kernelspec": {
   "display_name": "Python 3 (ipykernel)",
   "language": "python",
   "name": "python3"
  },
  "language_info": {
   "codemirror_mode": {
    "name": "ipython",
    "version": 3
   },
   "file_extension": ".py",
   "mimetype": "text/x-python",
   "name": "python",
   "nbconvert_exporter": "python",
   "pygments_lexer": "ipython3",
   "version": "3.9.9"
  }
 },
 "nbformat": 4,
 "nbformat_minor": 5
}
