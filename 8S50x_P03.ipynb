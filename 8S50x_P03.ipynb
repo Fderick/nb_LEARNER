{
 "cells": [
  {
   "cell_type": "markdown",
   "id": "5ecda13d",
   "metadata": {
    "tags": [
     "learner",
     "md"
    ]
   },
   "source": [
    "<hr style=\"height: 1px;\">\n",
    "<i>This notebook was authored by the 8.S50x Course Team, Copyright 2022 MIT All Rights Reserved.</i>\n",
    "<hr style=\"height: 1px;\">\n",
    "<br>\n",
    "\n",
    "<h1>Guided Problem Set 3: Fourier Analysis</h1>\n"
   ]
  },
  {
   "cell_type": "markdown",
   "id": "67b2e44d",
   "metadata": {
    "tags": [
     "learner",
     "md"
    ]
   },
   "source": [
    "<a name='section_3_0'></a>\n",
    "<hr style=\"height: 1px;\">\n",
    "\n",
    "\n",
    "## <h2 style=\"border:1px; border-style:solid; padding: 0.25em; color: #FFFFFF; background-color: #90409C\">P3.0 Overview</h2>\n"
   ]
  },
  {
   "cell_type": "markdown",
   "id": "99aec46d",
   "metadata": {
    "tags": [
     "learner",
     "md"
    ]
   },
   "source": [
    "<h3>Navigation</h3>\n",
    "\n",
    "<table style=\"width:100%\">\n",
    "    <tr>\n",
    "        <td style=\"text-align: left; vertical-align: top; font-size: 10pt;\"><a href=\"#section_3_1\">P3.1 Frequency Analysis</a></td>\n",
    "        <td style=\"text-align: left; vertical-align: top; font-size: 10pt;\"><a href=\"#problems_3_1\">P3.1 Problems</a></td>\n",
    "    </tr>\n",
    "    <tr>\n",
    "        <td style=\"text-align: left; vertical-align: top; font-size: 10pt;\"><a href=\"#section_3_2\">P3.2 The Discrete Fourier Transform</a></td>\n",
    "        <td style=\"text-align: left; vertical-align: top; font-size: 10pt;\"><a href=\"#problems_3_2\">P3.2 Problems</a></td>\n",
    "    </tr>\n",
    "    <tr>\n",
    "        <td style=\"text-align: left; vertical-align: top; font-size: 10pt;\"><a href=\"#section_3_3\">P3.3 Spectrogram and Q-Transform</a></td>\n",
    "        <td style=\"text-align: left; vertical-align: top; font-size: 10pt;\"><a href=\"#problems_3_3\">P3.3 Problems</a></td>\n",
    "    </tr>\n",
    "</table>\n",
    "\n"
   ]
  },
  {
   "cell_type": "markdown",
   "id": "8d242c6c",
   "metadata": {
    "tags": [
     "learner",
     "catsoop_00",
     "md"
    ]
   },
   "source": [
    "<h3>Learning Objectives</h3>\n",
    "\n",
    "The goal of this exercise is to prepare you for analyzing data in fourier space. These exercises will show you how to go from a simple set of frequencies to a full data analysis. As an example, we will use music, but this can easily be applied to any setup in frequency space.\n",
    "\n",
    "In this problem set we will explore the following objectives\n",
    "- Understand the frequency analysis of continuous and discrete time signals\n",
    "- Visualize the connection between time and frequency space\n",
    "- Characterize the energy/power carried by different frequencies\n",
    "- Filter and denoise a signal by visualizing its spectral content\n"
   ]
  },
  {
   "cell_type": "markdown",
   "id": "1a3c16f1",
   "metadata": {
    "tags": [
     "learner",
     "md"
    ]
   },
   "source": [
    "<h3>Importing Libraries</h3>\n",
    "\n",
    "Before beginning, run the cell below to import the relevant libraries for this notebook. \n",
    "Optionally, set the plot resolution and default figure size.\n"
   ]
  },
  {
   "cell_type": "code",
   "execution_count": null,
   "id": "8340804f",
   "metadata": {
    "tags": [
     "learner",
     "py"
    ]
   },
   "outputs": [],
   "source": [
    "#>>>RUN\n",
    "!pip install playsound\n",
    "!pip install soundfile"
   ]
  },
  {
   "cell_type": "code",
   "execution_count": null,
   "id": "77f9b6fc",
   "metadata": {
    "tags": [
     "learner",
     "py"
    ]
   },
   "outputs": [],
   "source": [
    "#>>>RUN\n",
    "\n",
    "import numpy as np\n",
    "import matplotlib.pyplot as plt\n",
    "import math\n",
    "from scipy.io.wavfile import write\n",
    "\n",
    "#set plot resolution\n",
    "%config InlineBackend.figure_format = 'retina'\n",
    "\n",
    "#set default figure size\n",
    "plt.rcParams['figure.figsize'] = (9,6)"
   ]
  },
  {
   "cell_type": "markdown",
   "id": "cc915348",
   "metadata": {
    "tags": [
     "learner",
     "md"
    ]
   },
   "source": [
    "<a name='section_3_1'></a>\n",
    "<hr style=\"height: 1px;\">\n",
    "\n",
    "## <h2 style=\"border:1px; border-style:solid; padding: 0.25em; color: #FFFFFF; background-color: #90409C\">P3.1 Frequency Analysis</h2>    \n",
    "\n",
    "| [Top](#section_3_0) | [Previous Section](#section_3_0) | [Problems](#problems_3_1) | [Next Section](#section_3_2) |\n"
   ]
  },
  {
   "cell_type": "markdown",
   "id": "2181195f",
   "metadata": {
    "tags": [
     "learner",
     "catsoop_01",
     "md"
    ]
   },
   "source": [
    "<h3>Motivation: Gravitational Waves/LIGO</h3>\n",
    "\n",
    "Every massive object that accelerates produces gravitational waves. These gravitational waves can be intuitively understood as \"ripples\" in space-time that travel at the speed of light. One of the largest sources of continuous gravitational waves are produced by spinning massive objects such as neutron stars and black holes. Much can be learned about these objects by studying their gravitational wave signals so they are often studied at the gravitational wave detectors in the US (LIGO). \n",
    "\n",
    "Compact Binary Inspiral Gravitational Waves are of particular interest and show up as significant detections in LIGO. These waves are created by one of three sources: \n",
    "\n",
    "- Binary Neutron Stars (BNS)\n",
    "- Binary Black Hole (BBH)\n",
    "- Neutron Star-Black Hole Binary (NSBH)\n"
   ]
  },
  {
   "cell_type": "markdown",
   "id": "ba9a63ff",
   "metadata": {
    "tags": [
     "learner",
     "catsoop_01",
     "md"
    ]
   },
   "source": [
    "<p align=\"center\">\n",
    "<img src=\"https://raw.githubusercontent.com/mitx-8s50/images/main/P03/ligo.jpg\" width=\"600\"/>\n",
    "</p>"
   ]
  },
  {
   "cell_type": "markdown",
   "id": "31b5bcdb",
   "metadata": {
    "tags": [
     "learner",
     "catsoop_01",
     "md"
    ]
   },
   "source": [
    "When these events occur, they are measured on Earth at one of the LIGO detectors. When the gravity waves of a cataclysmic merger pass through the earth, they morph space-time changing the length of a 4km LIGO arm by a thousandth of the width of a proton. The LIGO detector is able to be sensitive to these very small changes and thus can generate strain vs. time data for the gravitation wave.\n",
    "\n",
    "Strain is the instrument's detected space change within an arm in comparison to the total space (length) of the arm. In the event of a detectable merger this strain data will form a \"gravitational wave signal\".\n",
    "\n",
    "The goal, then, of the LIGO groups is to filter out the noise of the signal and extract parameters from the signal itself using a template fit. These parameters often lead insight to the specific event or even the universe itself.\n"
   ]
  },
  {
   "cell_type": "markdown",
   "id": "884c1061",
   "metadata": {
    "tags": [
     "learner",
     "catsoop_01",
     "md"
    ]
   },
   "source": [
    "<h3>Frequency Analysis</h3>\n",
    "\n",
    "<p align=\"center\">\n",
    "<img src=\"https://raw.githubusercontent.com/mitx-8s50/images/main/P03/strain.png\" width=\"800\"/>\n",
    "</p>\n",
    "\n",
    "Often, the time-series data is too noisy/messy for easy analysis, so instead we can consider the underlying frequency representation of the same information. The allows us to concentrate on the frequencies for which we expect the black hole merger to exist and easily filter out frequencies that come from power lines, earthquake disturbances, or other noise sources.\n",
    "\n",
    "If we are able to convert the time-series data to frequency based data, filter out the noise frequencies, and then convert the remaining signal to time-series data, we can get a 'cleaner' time-series version of the data. This cleaned version is then much easier to analyze in further research. \n",
    "\n",
    "This translation of time-series data to frequencies and vice versa are called fourier transforms and inverse fourier transforms respectively, and is the main focus of the problem set. \n",
    "\n",
    "**Fourier Transform**<br />\n",
    "*Space or Time Functions* &rarr; *Spatial or Temporal Frequencies* <br />\n",
    "\n",
    "**Inverse Fourier Transform**<br />\n",
    "*Spatial or Temporal Frequencies* &rarr; *Space or Time Functions*"
   ]
  },
  {
   "cell_type": "markdown",
   "id": "8db09261",
   "metadata": {
    "tags": [
     "learner",
     "catsoop_01",
     "md"
    ]
   },
   "source": [
    "<h3>What do I mean by \"Frequency Space\"</h3>\n",
    "\n",
    "In 1807 Joseph Fourier posited that any periodic signal could be represented by a sum of a particular set of harmonic sinusoids. \n",
    "\n",
    "In other words, all signals can be decomposed into elemental sine and cosine components, as follows:\n",
    "\n",
    "$$f(t) = c_0 + \\sum\\limits_{k=1}^\\infty (c_k\\cos(k\\omega_o t) + d_k\\sin(k\\omega_o t))$$"
   ]
  },
  {
   "cell_type": "markdown",
   "id": "dca7d606",
   "metadata": {
    "tags": [
     "learner",
     "catsoop_01",
     "md"
    ]
   },
   "source": [
    "<p align=\"center\">\n",
    "<img src=\"https://raw.githubusercontent.com/mitx-8s50/images/main/P03/decompose.gif\" width=\"800\"/>\n",
    "</p>"
   ]
  },
  {
   "cell_type": "markdown",
   "id": "0329f230",
   "metadata": {
    "tags": [
     "learner",
     "catsoop_01",
     "md"
    ]
   },
   "source": [
    "<p align=\"center\">\n",
    "<img src=\"https://raw.githubusercontent.com/mitx-8s50/images/main/P03/recompose.gif\" width=\"800\"/>\n",
    "</p>"
   ]
  },
  {
   "cell_type": "markdown",
   "id": "358f4438",
   "metadata": {
    "tags": [
     "learner",
     "catsoop_01",
     "md"
    ]
   },
   "source": [
    "Convince yourself that the follwing sinusoidal decomposition is indeed the case.\n",
    "\n",
    "$$e^{ix} = \\cos(x) + i\\sin(x)$$\n",
    "\n",
    "<p align=\"center\">\n",
    "<img src=\"https://raw.githubusercontent.com/mitx-8s50/images/main/P03/plane.png\" width=\"400\"/>\n",
    "</p>"
   ]
  },
  {
   "cell_type": "markdown",
   "id": "3a4e94a5",
   "metadata": {
    "tags": [
     "learner",
     "catsoop_01",
     "md"
    ]
   },
   "source": [
    "<p align=\"center\">\n",
    "<img src=\"https://raw.githubusercontent.com/mitx-8s50/images/main/P03/sawtooth.gif\" width=\"800\"/>\n",
    "</p>"
   ]
  },
  {
   "cell_type": "markdown",
   "id": "fb9c4f98",
   "metadata": {
    "tags": [
     "learner",
     "md"
    ]
   },
   "source": [
    "<a name='problems_3_1'></a>     \n",
    "\n",
    "| [Top](#section_3_0) | [Restart Section](#section_3_1) | [Next Section](#section_3_2) |\n"
   ]
  },
  {
   "cell_type": "markdown",
   "id": "5167532b",
   "metadata": {
    "tags": [
     "learner",
     "md"
    ]
   },
   "source": [
    "### <span style=\"border:3px; border-style:solid; padding: 0.15em; border-color: #90409C; color: #90409C;\">Problem-3.1.1</span>\n",
    "\n",
    "The code below plots a function in the space or time domain. What will it's frequency domain look like? Specifically, how many peaks will it have and will they have the same height?\n",
    "\n",
    "Answer in the form of a list with the first element indicating how many peaks and the second element being 1 if all the peaks are the same height or 0 if not (e.g. `[2,0]` for two peaks with different heights).\n",
    "\n",
    "*Hint: look at the function written in the code below. Try plotting this yourself! We will learn how to plot functions in the frequency domain in the next section.*\n"
   ]
  },
  {
   "cell_type": "code",
   "execution_count": null,
   "id": "d4d15f0d",
   "metadata": {
    "tags": [
     "draft",
     "py"
    ]
   },
   "outputs": [],
   "source": [
    "#>>>PROBLEM\n",
    "# Use this cell for drafting your solution (if desired),\n",
    "# then enter your solution in the interactive problem online to be graded.\n",
    "\n",
    "import numpy as np\n",
    "import matplotlib.pyplot as plt\n",
    "\n",
    "x = np.arange(0,4*np.pi,0.01)   # start,stop,step\n",
    "y = np.sin(x) + np.sin(3*x) + np.sin(4*x) + np.sin(15*x) + np.sin(7*x) + .3*np.sin(20*x)\n",
    "\n",
    "plt.plot(x, y)\n",
    "\n",
    "#plot labels and style\n",
    "plt.xlabel('x', fontsize=15) #Label x\n",
    "plt.ylabel('y', fontsize=15)#Label y\n",
    "\n",
    "# changing the fontsize of ticks\n",
    "plt.xticks(fontsize=12)\n",
    "plt.yticks(fontsize=12)\n",
    "plt.show()"
   ]
  },
  {
   "cell_type": "markdown",
   "id": "5d48cd02",
   "metadata": {
    "tags": [
     "learner",
     "md"
    ]
   },
   "source": [
    "### <span style=\"border:3px; border-style:solid; padding: 0.15em; border-color: #90409C; color: #90409C;\">Problem-3.1.2</span>\n",
    "\n",
    "Given the formula below, what is the maximum and minimum value of the signal amplitude? Report your result as a list of numbers `[max,min]` with precision 1e-1.\n",
    "\n",
    "*Hint: look at the function written in the code below. Try plotting this yourself!*"
   ]
  },
  {
   "cell_type": "code",
   "execution_count": null,
   "id": "edb93809",
   "metadata": {
    "tags": [
     "draft",
     "py"
    ]
   },
   "outputs": [],
   "source": [
    "import numpy as np\n",
    "import matplotlib.pyplot as plt\n",
    "\n",
    "x = np.arange(0,4*np.pi,0.01)   # start,stop,step\n",
    "y = np.sin(x) + np.sin(4*x) + np.sin(20*x)\n",
    "\n",
    "plt.plot(x, y)\n",
    "\n",
    "#plot labels and style\n",
    "plt.xlabel('x', fontsize=15) #Label x\n",
    "plt.ylabel('y', fontsize=15)#Label y\n",
    "\n",
    "# changing the fontsize of ticks\n",
    "plt.xticks(fontsize=12)\n",
    "plt.yticks(fontsize=12)\n",
    "plt.show()"
   ]
  },
  {
   "cell_type": "markdown",
   "id": "0afc967f",
   "metadata": {
    "tags": [
     "learner",
     "md"
    ]
   },
   "source": [
    "### <span style=\"border:3px; border-style:solid; padding: 0.15em; border-color: #90409C; color: #90409C;\">Problem-3.1.3</span>\n",
    "\n",
    "In the code above, if the sin(4x) became sin(3x), would the maximum be larger or smaller?\n",
    "\n",
    "*Hint: Try plotting this yourself!*"
   ]
  },
  {
   "cell_type": "markdown",
   "id": "e605ceb8",
   "metadata": {
    "tags": [
     "learner",
     "md"
    ]
   },
   "source": [
    "<a name='section_3_2'></a>\n",
    "<hr style=\"height: 1px;\">\n",
    "\n",
    "## <h2 style=\"border:1px; border-style:solid; padding: 0.25em; color: #FFFFFF; background-color: #90409C\">P3.2 The Discrete Fourier Transform</h2>    \n",
    "\n",
    "| [Top](#section_3_0) | [Previous Section](#section_3_1) | [Problems](#problems_3_2) | [Next Section](#section_3_3) |\n"
   ]
  },
  {
   "cell_type": "markdown",
   "id": "4219b1d0",
   "metadata": {
    "tags": [
     "learner",
     "catsoop_02",
     "md"
    ]
   },
   "source": [
    "<h3>Overview</h3>\n",
    "\n",
    "- These decomposed sinusoids are characterized by their frequencies.\n",
    "- Want a mathematical machine that treats signals with a given frequency different than other frequencies. \n"
   ]
  },
  {
   "cell_type": "markdown",
   "id": "f25ce8be",
   "metadata": {
    "tags": [
     "learner",
     "catsoop_02",
     "md"
    ]
   },
   "source": [
    "<h3>Analysis (Discrete Fourier Transform)</h3>\n",
    "\n",
    "- We can inspect a signal and ask how much of one frequency is present.\n",
    "- Multiply our signal by a sinusoid of a particular frequency to ask how \"similar\" the two are. \n",
    "- Call these the *Fourier frequency coefficients.*\n",
    "$$ X[k] = \\frac{1}{N}\\sum\\limits_{n=1}^{N-1} x[n]e^{-i\\frac{2\\pi k}{N} n} $$ \n",
    "<br>\n",
    "\n",
    "\n",
    "<table style=\"width:50%\">\n",
    "    <colgroup>\n",
    "       <col span=\"1\" style=\"width: 50%;\">\n",
    "       <col span=\"1\" style=\"width: 50%;\">\n",
    "    </colgroup>\n",
    "    <tr>\n",
    "        <th style=\"text-align: left; font-size: 13pt;\">Syntax</th>\n",
    "        <th style=\"text-align: left; font-size: 13pt;\">Description</th>\n",
    "    </tr>\n",
    "    <tr>\n",
    "        <td style=\"text-align: left; vertical-align: top; font-size: 10pt;\">$ x[n]$</td>\n",
    "        <td style=\"text-align: left; vertical-align: top; font-size: 10pt;\">Signal for analysis</td>\n",
    "    </tr>\n",
    "    <tr>\n",
    "        <td style=\"text-align: left; vertical-align: top; font-size: 10pt;\">$ e^{-i\\frac{2\\pi k}{N} n}$</td>\n",
    "        <td style=\"text-align: left; vertical-align: top; font-size: 10pt;\">Frequency component k we compare to</td>\n",
    "    </tr>\n",
    "    <tr>\n",
    "        <td style=\"text-align: left; vertical-align: top; font-size: 10pt;\">$ X[k] $</td>\n",
    "        <td style=\"text-align: left; vertical-align: top; font-size: 10pt;\">How similar to the sinusoid of component k</td>\n",
    "    </tr>\n",
    "</table>\n",
    "\n",
    "\n",
    "$$X[k] = \\frac{1}{N}\\sum\\limits_{n=1}^{N-1} (e^{-i\\frac{2\\pi j}{N} n})(e^{i\\frac{2\\pi k}{N} n}) = \\frac{N}{N}\\delta_{jk} $$ \n",
    "<br>\n",
    "\n",
    "***The \"DC\" ($X[0]$) Term***\n",
    "- Is the 0 frequency component of a signal.\n",
    "- Represents the constant offset of a signal (if any). \n",
    "- Represents the *average value* of a signal over one period. \n",
    "\n",
    "\n",
    "***Synthesis (Inverse Discrete Fourier Transform)***\n",
    "- Can recompose signal with these coefficients.\n",
    "$$x[n] = \\sum\\limits_{k=0}^{N-1}X[k]e^{i\\frac{2\\pi k}{N} n}$$\n"
   ]
  },
  {
   "cell_type": "markdown",
   "id": "36d5cf9c",
   "metadata": {
    "tags": [
     "learner",
     "catsoop_02",
     "md"
    ]
   },
   "source": [
    "<p align=\"center\">\n",
    "<img src=\"https://raw.githubusercontent.com/mitx-8s50/images/main/P03/box_transform.PNG\" width=\"700\"/>\n",
    "</p>\n",
    "<p align=\"center\">\n",
    "<img src=\"https://raw.githubusercontent.com/mitx-8s50/images/main/P03/box_transform_2.PNG\" width=\"700\"/>\n",
    "</p>"
   ]
  },
  {
   "cell_type": "markdown",
   "id": "a193b83e",
   "metadata": {
    "tags": [
     "learner",
     "catsoop_02",
     "md"
    ]
   },
   "source": [
    "Notice that when we tightened our signal in time, we made it wider in frequency. This is a visual representation of the famous _uncertainity principle_! It arises in quantum mechanics because position and momentum obey the same Fourier relationship that time and frequency do above."
   ]
  },
  {
   "cell_type": "markdown",
   "id": "5483376a",
   "metadata": {
    "tags": [
     "learner",
     "catsoop_02",
     "md"
    ]
   },
   "source": [
    "Take a look at the code below which uses numpy's built in `fft` method to take a discrete fourier tranform. Play around with the signal width and verify the uncertainty principle."
   ]
  },
  {
   "cell_type": "code",
   "execution_count": null,
   "id": "dfa6fc38",
   "metadata": {
    "tags": [
     "learner",
     "py",
     "catsoop_02"
    ]
   },
   "outputs": [],
   "source": [
    "#>>>RUN\n",
    "\n",
    "import numpy as np\n",
    "import matplotlib.pyplot as plt\n",
    "\n",
    "samplingFrequency   = 100\n",
    "signal_width = 2\n",
    "\n",
    "#Plotting amplitude vs. time\n",
    "x = np.arange(-5, 5, .01)\n",
    "amplitude = np.piecewise(x, [x < 0-signal_width/2, ((x >= 0-signal_width/2) & (x < 0+signal_width/2)), x >= 0+signal_width/2], [0, 1, 0])\n",
    "plt.title('Signal across time',fontsize=15)\n",
    "plt.plot(x, amplitude)\n",
    "plt.xlabel('Time',fontsize=15)\n",
    "plt.ylabel('Amplitude',fontsize=15)\n",
    "# changing the fontsize of ticks\n",
    "plt.xticks(fontsize=12)\n",
    "plt.yticks(fontsize=12)\n",
    "plt.show()\n",
    "\n",
    "#Using np.fft.fft to take the fourier transform\n",
    "fourierTransform = np.fft.fft(amplitude)/len(amplitude)    #Devide by length of the amplitude to normalize the transform\n",
    "fourierTransform = fourierTransform[range(-int(len(amplitude)/2),int(len(amplitude)/2))] #Only look in a select range\n",
    "    \n",
    "#parametrize the frequency space\n",
    "tpCount     = len(amplitude)\n",
    "values      = np.arange(-int(tpCount/2), int(tpCount/2))\n",
    "timePeriod  = tpCount/samplingFrequency\n",
    "frequencies = values/timePeriod\n",
    "\n",
    "#Plot the frequency space\n",
    "plt.title('Fourier transform',fontsize=15)\n",
    "plt.plot(frequencies, abs(fourierTransform))\n",
    "plt.xlabel('Frequency',fontsize=15)\n",
    "plt.ylabel('Amplitude',fontsize=15)\n",
    "# changing the fontsize of ticks\n",
    "plt.xticks(fontsize=12)\n",
    "plt.yticks(fontsize=12)\n",
    "plt.show()\n"
   ]
  },
  {
   "cell_type": "markdown",
   "id": "160676ff",
   "metadata": {
    "tags": [
     "learner",
     "md",
     "catsoop_02"
    ]
   },
   "source": [
    "<h3>Spectral Density/Power Spectrums</h3>\n",
    "\n",
    "\n",
    "<h4>First the Energy Spectral Density (ESD)</h4>\n",
    "\n",
    "- Describes how the energy of a signal is distributed with frequency. \n",
    "- The squared magnitude of each frequency \n",
    "- Good for localised transients (pulse-like signals) whose energy is concentrated around one time window. \n",
    "\n",
    "$$\\overline{S}_{xx}(f) = |{\\hat{x}(f)}|^2$$\n",
    "\n",
    "<h4>Power Spectral Density (PSD)</h4>\n",
    "\n",
    "- For continuous signals over all time, the power spectal density is more apt. \n",
    "- The power spectral density of a time series is the measure of the signal's power content in the frequency components that compose that signal.\n",
    "\n",
    "$$S_{xx}(f) = \\lim_{T \\to \\infty} \\frac{1}{T}|\\hat{x}_T(f)|^2 \\ \\textrm{where} \\ x_T \\ \\textrm{is the signal, windowed}$$\n",
    "\n",
    "$$S_{xx}(f) = \\int_{-\\infty}^{\\infty} R_{xx}(\\tau)e^{-i2\\pi f\\tau}d\\tau = \\hat{R}_{xx}(f) $$\n",
    "\n",
    "- Defined as the normalized limit of the ESD for the windowed signal.\n",
    "- Also represented as the Fourier transform of the autocorrelation function $R_{xx}(\\tau)$ (informally, the Fourier transform of how similar the signal is to itself). \n",
    "\n",
    "<h4>Amplitude Spectral Density (ASD)</h4>\n",
    "\n",
    "- Amplitude Spectral Density (ASD) is just the square-root of the PSD and is useful when the shape of the spectrum is rather constant, since variations in the ASD will then be proportional to variations in the signal's voltage itself.\n",
    "\n",
    "<p align=\"center\">\n",
    "<img src=\"https://raw.githubusercontent.com/mitx-8s50/images/main/P03/spectrum.png\" width=\"500\"/>\n",
    "</p>\n",
    "\n",
    "\n",
    "- Dominated by low frequencies and sharp spectral lines throughout. \n",
    "- From instrumental artifacts\n",
    "    - Seismic noise\n",
    "    - \"Violin Modes\" from the suspension fibers of the LIGO mirrors. \n"
   ]
  },
  {
   "cell_type": "markdown",
   "id": "9f0051d5",
   "metadata": {
    "tags": [
     "learner",
     "md"
    ]
   },
   "source": [
    "<a name='problems_3_2'></a>     \n",
    "\n",
    "| [Top](#section_3_0) | [Restart Section](#section_3_2) | [Next Section](#section_3_3) |\n"
   ]
  },
  {
   "cell_type": "markdown",
   "id": "ef8f6b1f",
   "metadata": {
    "tags": [
     "learner",
     "md"
    ]
   },
   "source": [
    "### <span style=\"border:3px; border-style:solid; padding: 0.15em; border-color: #90409C; color: #90409C;\">Problem-3.2.1</span>\n",
    "\n",
    "Consider the below `amplitude` function, which is simply a mixing of 3 different sinusoidal functions. Using `np.fft.fft`, translate the function from its time domain to its frequency domain. Make sure to normalize the fourier transform (as done in the previouis code segment).\n",
    "\n",
    "What is the height of the tallest peak in the frequency space? Enter your answer as number with precision 1e-1."
   ]
  },
  {
   "cell_type": "code",
   "execution_count": null,
   "id": "9f5981e7",
   "metadata": {
    "tags": [
     "draft",
     "py"
    ]
   },
   "outputs": [],
   "source": [
    "#>>>PROBLEM\n",
    "# Use this cell for drafting your solution (if desired),\n",
    "# then enter your solution in the interactive problem online to be graded.\n",
    "\n",
    "samplingFrequency   = 100\n",
    "samplingInterval = 1 / samplingFrequency\n",
    "\n",
    "beginTime = 0\n",
    "endTime = 10\n",
    "\n",
    "time = np.arange(beginTime, endTime, samplingInterval);\n",
    "\n",
    "amplitude1 = np.sin(2*np.pi*23*time)\n",
    "amplitude2 = 3*np.sin(2*np.pi*17*time)\n",
    "amplitude3 = -1.5*np.sin(2*np.pi*13*time)\n",
    "\n",
    "amplitude = amplitude1 + amplitude2 + amplitude3\n",
    "plt.title('Sine wave with multiple frequencies',fontsize=15)\n",
    "plt.plot(time, amplitude)\n",
    "plt.xlabel('Time',fontsize=15)\n",
    "plt.ylabel('Amplitude',fontsize=15)\n",
    "# changing the fontsize of ticks\n",
    "plt.xticks(fontsize=12)\n",
    "plt.yticks(fontsize=12)\n",
    "plt.show()\n",
    "\n",
    "##############################################\n",
    "############## INSERT CODE HERE ##############\n",
    "##############################################\n",
    "\n",
    "\n",
    "##############################################\n",
    "##############################################\n",
    "\n",
    "plt.title('Fourier transform depicting the frequency components',fontsize=15)\n",
    "plt.grid(color='grey', linestyle='-', linewidth=1)\n",
    "plt.plot(frequencies, abs(fourierTransform))\n",
    "plt.xlabel('Frequency',fontsize=15)\n",
    "plt.ylabel('Amplitude',fontsize=15)\n",
    "# changing the fontsize of ticks\n",
    "plt.xticks(fontsize=12)\n",
    "plt.yticks(fontsize=12)\n",
    "plt.show()"
   ]
  },
  {
   "cell_type": "markdown",
   "id": "b31e20cd",
   "metadata": {
    "tags": [
     "learner",
     "md"
    ]
   },
   "source": [
    "### <span style=\"border:3px; border-style:solid; padding: 0.15em; border-color: #90409C; color: #90409C;\">Problem-3.2.2</span>\n",
    "\n",
    "Compute the ESD and approximate the PSD and ASD of the above signal. What are the values of the ESD, PSD, and ASD at the frequncy $f_0=17$ Hz?\n",
    "\n",
    "Hint: Consider the definitions previously given.\n",
    "\n",
    "<pre>\n",
    "ESD = np.abs(fourierTransform)**2\n",
    "PSD = ESD/endTime\n",
    "ASD = np.sqrt(PSD)\n",
    "</pre>\n",
    "\n",
    "Enter your answer as a list of numbers `[ESD(f0), PSD(f0), ASD(f0)]` with precision 1e-2.\n",
    "\n",
    "\n",
    "Would it be easier to do this manually or with a computer?"
   ]
  },
  {
   "cell_type": "markdown",
   "id": "92a704e8",
   "metadata": {
    "tags": [
     "learner",
     "md"
    ]
   },
   "source": [
    "<a name='section_3_3'></a>\n",
    "<hr style=\"height: 1px;\">\n",
    "\n",
    "## <h2 style=\"border:1px; border-style:solid; padding: 0.25em; color: #FFFFFF; background-color: #90409C\">P3.3 Spectrogram and Q-Transform</h2>   \n",
    "\n",
    "| [Top](#section_3_0) | [Previous Section](#section_3_2) | [Problems](#problems_3_3) |\n"
   ]
  },
  {
   "cell_type": "markdown",
   "id": "d54d24a2",
   "metadata": {
    "tags": [
     "learner",
     "catsoop_03",
     "md"
    ]
   },
   "source": [
    "<h3>Overview</h3>\n",
    "\n",
    "- To better understand a system, we can bridge the gap between the frequency and time domains with another transform.\n",
    "- The Short-Time Fourier Transform takes the Fourier transform within shorter time segments. \n",
    "- The resulting visual representation is called a \"spectrogram\" which can be thought of as a series of Fourier transforms stacked on their side. \n",
    "\n",
    "<p align=\"center\">\n",
    "<img src=\"https://raw.githubusercontent.com/mitx-8s50/images/main/P03/motif_sgram.png\" width=\"400\"/>\n",
    "</p>\n",
    "\n",
    "- The Q-Transform breaks these intervals up with logarithmic spacing for when the data are better represented as such (often times in audio.)\n",
    "\n",
    "<p align=\"center\">\n",
    "<img src=\"https://raw.githubusercontent.com/mitx-8s50/images/main/P03/stft_vs_q_gautham.png\" width=\"400\"/>\n",
    "</p>\n",
    "<!-- https://ccrma.stanford.edu/~gautham/Site/Multipitch.html -->"
   ]
  },
  {
   "cell_type": "markdown",
   "id": "f0e8b12d",
   "metadata": {
    "tags": [
     "learner",
     "catsoop_03",
     "md"
    ]
   },
   "source": [
    "<h3>Whitening data</h3>\n",
    "\n",
    "- From the ASD above, we can see that noise fluctuations are much larger at low and high frequencies and near spectral lines. \n",
    "- To better visualize deviations from the noise, it is useful to employ a technique called \"whitening\".\n",
    "- Whitening takes the data and attempts to make the power spectral density flat (i.e. normalize the power at all frequencies) so that excess power at any frequency is more obvious. \n",
    "\n",
    "- Persisent signals like noise will have their power spread about the entire time window. \n",
    "- Localized signals will have all of their power in one region region (evident spikes)\n",
    "\n",
    "- Achieved very informally by applying the inverse frequency response of the raw signal. \n",
    "\n",
    "Example: Trasmitted power in one of the interferoeter arms with two large glitches with a frequency around 5-50Hz\n",
    "\n",
    "<p align=\"center\">\n",
    "<img src=\"https://raw.githubusercontent.com/mitx-8s50/images/main/P03/whiteningexample_gwpy.png\" width=\"800\"/>\n",
    "</p>\n"
   ]
  },
  {
   "cell_type": "markdown",
   "id": "eef3442d",
   "metadata": {
    "tags": [
     "learner",
     "catsoop_03",
     "md"
    ]
   },
   "source": [
    "<h3>Filtering</h3>\n",
    "\n",
    "- The amplification/attenuation of frequency components.\n",
    "- Can be done in the time domian but best viewed from the frequency domain. \n",
    "    - **Multiplication in the frequency domain**\n",
    "    - A set of scale factors H() which is refered to as the frequency response of the system.\n",
    "    \n",
    "<p align=\"center\">\n",
    "<img src=\"https://raw.githubusercontent.com/mitx-8s50/images/main/P03/filters.png\" width=\"800\"/>\n",
    "</p>\n"
   ]
  },
  {
   "cell_type": "markdown",
   "id": "8665302e",
   "metadata": {
    "tags": [
     "learner",
     "catsoop_03",
     "md"
    ]
   },
   "source": [
    "<h4>DFT Filtering</h4>\n",
    "\n",
    "- We can filter using DFT coefficients by scaling them appropriately."
   ]
  },
  {
   "cell_type": "markdown",
   "id": "5d12119f",
   "metadata": {
    "tags": [
     "learner",
     "catsoop_03",
     "md"
    ]
   },
   "source": [
    "<h3>Example with Sound File</h3>\n",
    "\n",
    "We are going to work through an example of filtering a sound file. First, we will import the relevant libraries and download a free sound file, below.\n",
    "\n",
    "To read more about soundfile and sounddevice, see here:\n",
    "\n",
    "- https://pysoundfile.readthedocs.io/en/latest/\n",
    "- https://python-sounddevice.readthedocs.io/en/0.4.5/"
   ]
  },
  {
   "cell_type": "code",
   "execution_count": null,
   "id": "42e72a9a",
   "metadata": {
    "tags": [
     "learner",
     "py",
     "catsoop_03"
    ]
   },
   "outputs": [],
   "source": [
    "#>>>RUN\n",
    "import time\n",
    "import soundfile as sf\n",
    "import numpy as np\n",
    "from matplotlib import pyplot as plt\n",
    "from IPython.display import Audio, display\n",
    "\n",
    "#first we load a sound from this link here https://freesound.org/s/647536/\n",
    "\n",
    "data, samplerate = sf.read('data/P03/track.flac')"
   ]
  },
  {
   "cell_type": "markdown",
   "id": "6c3c106e",
   "metadata": {
    "tags": [
     "learner",
     "catsoop_03",
     "md"
    ]
   },
   "source": [
    "<h4>Amplitude and Frequency Manipulation</h4>\n",
    "\n",
    "Working through the cells below, we will do the following:\n",
    "\n",
    "- play the original file for 2 seconds\n",
    "- play a note at 440 Hz\n",
    "- Fourier transform the 440 Hz note and plot the frequency spectrum\n",
    "- decrease the amplitude of the 440 Hz note in Fourier space, convert back to the time domain and play\n",
    "- shift the frequency of the 440 Hz note in Fourier space (converting to 880 Hz), convert back to the time domain and play"
   ]
  },
  {
   "cell_type": "code",
   "execution_count": null,
   "id": "399ffd5d",
   "metadata": {
    "tags": [
     "learner",
     "py",
     "catsoop_03"
    ]
   },
   "outputs": [],
   "source": [
    "#>>>RUN\n",
    "\n",
    "#play the original file\n",
    "#the original file is 60s\n",
    "\n",
    "def play(iArray,iFS):\n",
    "    sf.write('data/P03/tmp.flac', iArray, iFS)\n",
    "    display(Audio('data/P03/tmp.flac',autoplay=False))\n",
    "\n",
    "\n",
    "play(data,samplerate)"
   ]
  },
  {
   "cell_type": "code",
   "execution_count": null,
   "id": "28a7c38c",
   "metadata": {
    "tags": [
     "learner",
     "py",
     "catsoop_03"
    ]
   },
   "outputs": [],
   "source": [
    "#>>>RUN\n",
    "\n",
    "#play the original file for 2 seconds\n",
    "#the original file is 60s\n",
    "\n",
    "sec=2\n",
    "min=0\n",
    "max=int((sec/60.)*len(data))\n",
    "play(data[min:max],samplerate)"
   ]
  },
  {
   "cell_type": "code",
   "execution_count": null,
   "id": "c8668068",
   "metadata": {
    "tags": [
     "learner",
     "py",
     "catsoop_03"
    ]
   },
   "outputs": [],
   "source": [
    "#>>>RUN\n",
    "\n",
    "#play a note at 440 Hz\n",
    "sec=2\n",
    "timeseq = np.arange(0,sec,1./samplerate);\n",
    "\n",
    "#lets do an A at 440Hz\n",
    "a440 = np.sin(2*np.pi*440*timeseq)\n",
    "play(a440,samplerate)"
   ]
  },
  {
   "cell_type": "code",
   "execution_count": null,
   "id": "bc5982ef",
   "metadata": {
    "tags": [
     "learner",
     "py",
     "catsoop_03"
    ]
   },
   "outputs": [],
   "source": [
    "#>>>RUN\n",
    "\n",
    "#Fourier transform the 440 Hz note and plot the frequency spectrum\n",
    "fta440 = np.fft.fft(a440)\n",
    "\n",
    "values      = np.arange(int(len(a440)))\n",
    "timePeriod  = len(a440)/samplerate\n",
    "frequencies = values/timePeriod\n",
    "plt.plot(frequencies[0:2000],np.abs(fta440[0:2000]))\n",
    "plt.show()"
   ]
  },
  {
   "cell_type": "code",
   "execution_count": null,
   "id": "cf342c1b",
   "metadata": {
    "tags": [
     "learner",
     "py",
     "catsoop_03"
    ]
   },
   "outputs": [],
   "source": [
    "#>>>RUN\n",
    "\n",
    "#decrease the amplitude of the 440 Hz note in Fourier space,\n",
    "#convert back to the time domain and play\n",
    "ifta440 = np.fft.ifft(fta440*0.1)\n",
    "\n",
    "play(ifta440.real,samplerate)"
   ]
  },
  {
   "cell_type": "code",
   "execution_count": null,
   "id": "5c686f20",
   "metadata": {
    "tags": [
     "learner",
     "py",
     "catsoop_03"
    ]
   },
   "outputs": [],
   "source": [
    "#>>>RUN\n",
    "\n",
    "#shift the frequency of the 440 Hz note in Fourier space (converting to 880 Hz),\n",
    "#convert back to the time domain and play\n",
    "fta880  = fta440\n",
    "fta880[880*2] = fta440[440*2]\n",
    "fta880[440*2] = 0\n",
    "ifta880 = np.fft.ifft(fta880)\n",
    "\n",
    "play(ifta880.real,samplerate)"
   ]
  },
  {
   "cell_type": "markdown",
   "id": "a8b71ee1",
   "metadata": {
    "tags": [
     "learner",
     "catsoop_03",
     "md"
    ]
   },
   "source": [
    "<h4>Bass Boosting</h4>\n",
    "\n",
    "Now we will manipulate the data in Fourier space to increase the amplitude of the lower frequencies. We first plot the result of this manipulation in the frequency domain."
   ]
  },
  {
   "cell_type": "code",
   "execution_count": null,
   "id": "279e7629",
   "metadata": {
    "tags": [
     "learner",
     "py",
     "catsoop_03"
    ]
   },
   "outputs": [],
   "source": [
    "#>>>RUN\n",
    "length_sec=len(data)/samplerate\n",
    "fc = 400 #cutoff frequency in Hz; boost all frequency content below fc\n",
    "kc = int(fc*length_sec)\n",
    "\n",
    "X = np.fft.fft(data[:,0])\n",
    "Y = X.copy() #copy values from X\n",
    "#boost the bass\n",
    "Y[:kc]    = [i*10 for i in X[:kc]]\n",
    "\n",
    "def plotFFT(X,Y,data,samplerate):\n",
    "    values      = np.arange(int(len(data[:,0])))\n",
    "    timePeriod  = len(data[:,0])/samplerate\n",
    "    frequencies = values/timePeriod\n",
    "    plt.plot(frequencies[0:int(length_sec*2000)],np.abs(X[0:int(length_sec*2000)]),alpha=0.5,label='before')\n",
    "    plt.plot(frequencies[0:int(length_sec*2000)],np.abs(Y[0:int(length_sec*2000)]),alpha=0.5,label='after')\n",
    "    plt.ylabel('amp')\n",
    "    plt.xlabel('freq')\n",
    "    plt.legend() \n",
    "    plt.yscale('log')\n",
    "    plt.show()\n",
    "\n",
    "plotFFT(X,Y,data,samplerate)"
   ]
  },
  {
   "cell_type": "markdown",
   "id": "dc5d8d79",
   "metadata": {
    "tags": [
     "learner",
     "catsoop_03",
     "md"
    ]
   },
   "source": [
    "Now we take the inverse Fourier transform and play the audio to compare with the original."
   ]
  },
  {
   "cell_type": "code",
   "execution_count": null,
   "id": "17d88e82",
   "metadata": {
    "tags": [
     "learner",
     "py",
     "catsoop_03"
    ]
   },
   "outputs": [],
   "source": [
    "#>>>RUN\n",
    "\n",
    "## Inverse fourier transform and recombine into a .wav file \n",
    "y = np.fft.ifft(Y)\n",
    "\n",
    "#start the file at 30 sec\n",
    "def replay(y,data,samplerate=samplerate,playtime=10):\n",
    "    print(\"play 1st: altered waveform\")\n",
    "    play(y[30*samplerate:(30+playtime)*samplerate].real,samplerate)\n",
    "    \n",
    "    print(\"play 2nd: original\")\n",
    "    #and for comparison\n",
    "    play(data[30*samplerate:(30+playtime)*samplerate].real,samplerate)\n",
    "\n",
    "\n",
    "replay(y,data)"
   ]
  },
  {
   "cell_type": "markdown",
   "id": "9e707f09",
   "metadata": {
    "tags": [
     "learner",
     "catsoop_03",
     "md"
    ]
   },
   "source": [
    "<h4>Bass Isolation (Low Pass)</h4>\n",
    "\n",
    "Finally, we use a low pass filter to truncate the data in the frequency domain. Again, the plot below shows the waveform in Fourier space, and then the data are played through the system audio."
   ]
  },
  {
   "cell_type": "code",
   "execution_count": null,
   "id": "d6fc798d",
   "metadata": {
    "tags": [
     "learner",
     "py",
     "catsoop_03"
    ]
   },
   "outputs": [],
   "source": [
    "#>>>RUN\n",
    "fc = 1000 #cutoff frequency in Hz; boost all frequency content below fc\n",
    "kc = int(fc*length_sec)\n",
    "\n",
    "X = np.fft.fft(data[:,0])\n",
    "Y = X.copy() #copy values from X\n",
    "Y[:kc]    = [i*10 for i in X[:kc]]\n",
    "Y[kc:]    = [i*0 for i in X[kc:]]\n",
    "y = np.fft.ifft(Y)\n",
    "\n",
    "plotFFT(X,Y,data,samplerate)\n",
    "replay(y,data,samplerate)"
   ]
  },
  {
   "cell_type": "markdown",
   "id": "e19e97c8",
   "metadata": {
    "tags": [
     "learner",
     "catsoop_03",
     "md"
    ]
   },
   "source": [
    "<h4>Signal Detection and Matched Filtering</h4>\n",
    "\n",
    "- If we have an unknown, noisy signal we can try to detect the presence of a known signal with matched filtering. \n",
    "- If we *know* or *guess* the signal we're looking for (called the *template*), we can use it as a filter for combing the data for the presence of that template.\n",
    "- Matched filters work by maximizing the signal to noise ratio (SNR) when the matched filter detects the presence of the template signal in a noisy signal. \n",
    "- We will talk more about convolutions next week but we can informally think of a matched filter as:\n",
    "- \"Drag\" or sweep your template across the signal and calculate some statistic.\n",
    "- The optimal statistic suggests the presence of a signal. \n",
    "\n",
    "<p align=\"center\">\n",
    "<img src=\"https://raw.githubusercontent.com/mitx-8s50/images/main/P03/template.png\" width=\"800\"/>\n",
    "</p>\n",
    "<p align=\"center\">\n",
    "<img src=\"https://raw.githubusercontent.com/mitx-8s50/images/main/P03/SNR.png\" width=\"800\"/>\n",
    "</p>\n"
   ]
  },
  {
   "cell_type": "code",
   "execution_count": null,
   "id": "9dfaf904",
   "metadata": {
    "tags": [
     "learner",
     "py",
     "catsoop_03"
    ]
   },
   "outputs": [],
   "source": [
    "#>>>RUN\n",
    "\n",
    "dft_cof = np.fft.fft(data[:,0])\n",
    "values      = np.arange(int(len(data[:,0])))\n",
    "timePeriod  = len(data[:,0])/samplerate\n",
    "frequencies = values/timePeriod\n",
    "minHz=900\n",
    "maxHz=1000\n",
    "plt.plot(frequencies[int(length_sec*minHz):int(length_sec*maxHz)],np.abs(X[int(length_sec*minHz):int(length_sec*maxHz)]),alpha=0.5)\n",
    "plt.ylabel('amp')\n",
    "plt.xlabel('freq')\n",
    "plt.legend() \n",
    "plt.show()\n"
   ]
  },
  {
   "cell_type": "code",
   "execution_count": null,
   "id": "c45e200e",
   "metadata": {
    "tags": [
     "learner",
     "py",
     "catsoop_03"
    ]
   },
   "outputs": [],
   "source": [
    "#now lets isolate a frequency\n",
    "minHz=0\n",
    "maxHz=int(len(dft_cof)/int(length_sec))\n",
    "isofreq=750\n",
    "freqrange=50\n",
    "dft_cof = np.fft.fft(data[:,0])\n",
    "norm=np.sum(dft_cof)\n",
    "for tmpfreq in range(minHz*int(length_sec),maxHz*int(length_sec)):\n",
    "    if (float(tmpfreq) < (isofreq-freqrange)*length_sec) or (float(tmpfreq) > (isofreq+freqrange)*length_sec):\n",
    "        dft_cof[tmpfreq] *= 0\n",
    "scale=np.sum(dft_cof)/norm\n",
    "dft_cof*=scale\n",
    "plotFFT(X,dft_cof,data,samplerate)\n",
    "isofreqdata = np.fft.ifft(dft_cof)\n",
    "x           = np.fft.ifft(X)\n",
    "\n",
    "replay(isofreqdata,x)"
   ]
  },
  {
   "cell_type": "markdown",
   "id": "9b1454bc",
   "metadata": {
    "tags": [
     "learner",
     "md"
    ]
   },
   "source": [
    "<a name='problems_3_3'></a>   \n",
    "\n",
    "| [Top](#section_3_0) | [Restart Section](#section_3_3) |\n"
   ]
  },
  {
   "cell_type": "markdown",
   "id": "6244008c",
   "metadata": {
    "tags": [
     "learner",
     "md"
    ]
   },
   "source": [
    "### <span style=\"border:3px; border-style:solid; padding: 0.15em; border-color: #90409C; color: #90409C;\">Problem-3.3.1</span>\n",
    "\n",
    "So in this case, we are going to go to our sound file and modify the song so that amplitude across each range is exactly the same. This a varaition of what we call whitening. Go ahead and set this up.\n",
    "\n",
    "**PHIL DETAIL HERE:**"
   ]
  },
  {
   "cell_type": "code",
   "execution_count": null,
   "id": "cc277715",
   "metadata": {
    "tags": [
     "draft",
     "py"
    ]
   },
   "outputs": [],
   "source": [
    "#>>>PROBLEM\n",
    "# Use this cell for drafting your solution (if desired),\n",
    "# then enter your solution in the interactive problem online to be graded.\n",
    "length_sec=len(data)/samplerate\n",
    "dft_cof = np.fft.fft(data[:,0])\n",
    "\n",
    "plotFFT(X,dft_cof,data,samplerate)\n",
    "isofreqdata = np.fft.ifft(dft_cof)\n",
    "X           = np.fft.fft(data[:,0])\n",
    "x           = np.fft.ifft(X)\n",
    "replay(isofreqdata,x,playtime=16)\n"
   ]
  },
  {
   "cell_type": "markdown",
   "id": "5b3c3300",
   "metadata": {
    "tags": [
     "learner",
     "md"
    ]
   },
   "source": [
    "### <span style=\"border:3px; border-style:solid; padding: 0.15em; border-color: #90409C; color: #90409C;\">Problem-3.3.2</span>\n",
    "\n",
    "Now inject a sine wave of 440 Hz, by adding it to the signal. Using an amplitude of 1000, show how whitening (without the signal injected) makes our signal clear.\n",
    "\n",
    "**PHIL DETAIL HERE:**"
   ]
  },
  {
   "cell_type": "code",
   "execution_count": null,
   "id": "b488e73e",
   "metadata": {
    "tags": [
     "learner",
     "py"
    ]
   },
   "outputs": [],
   "source": [
    "length_sec=len(data)/samplerate\n",
    "data_injected = data[:,0].copy()\n",
    "timeseq = np.arange(0,length_sec,1./samplerate);\n",
    "a440 = (np.sin(2*np.pi*440*timeseq + np.pi))*0.01\n",
    "data_injected+= a440 \n",
    "dft_cof     = np.fft.fft(data[:,0])\n",
    "dft_cof_inj = np.fft.fft(data_injected)\n",
    "dft_cof_inj_n = dft_cof_inj / np.abs(dft_cof)\n",
    "#dft_cof_inj_n*=50\n",
    "isofreqdata = np.fft.ifft(dft_cof_inj_n)\n",
    "#Now we should scale up the volume so its loud enough\n",
    "plotFFT(dft_cof_inj,dft_cof_inj_n,data,samplerate)\n",
    "replay(data_injected,isofreqdata,playtime=16)\n"
   ]
  }
 ],
 "metadata": {
  "kernelspec": {
   "display_name": "Python 3 (ipykernel)",
   "language": "python",
   "name": "python3"
  },
  "language_info": {
   "codemirror_mode": {
    "name": "ipython",
    "version": 3
   },
   "file_extension": ".py",
   "mimetype": "text/x-python",
   "name": "python",
   "nbconvert_exporter": "python",
   "pygments_lexer": "ipython3",
   "version": "3.9.9"
  }
 },
 "nbformat": 4,
 "nbformat_minor": 5
}
